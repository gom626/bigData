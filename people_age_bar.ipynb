{
 "cells": [
  {
   "cell_type": "code",
   "execution_count": 49,
   "metadata": {},
   "outputs": [],
   "source": [
    "import csv;\n",
    "import matplotlib.pyplot as plt"
   ]
  },
  {
   "cell_type": "code",
   "execution_count": 50,
   "metadata": {},
   "outputs": [],
   "source": [
    "f=open(\"age.csv\",'r',encoding=\"cp949\")\n",
    "data=csv.reader(f,delimiter=',')"
   ]
  },
  {
   "cell_type": "code",
   "execution_count": 51,
   "metadata": {},
   "outputs": [],
   "source": [
    "header=next(data);"
   ]
  },
  {
   "cell_type": "code",
   "execution_count": 52,
   "metadata": {},
   "outputs": [
    {
     "name": "stdout",
     "output_type": "stream",
     "text": [
      "인구 구조가 알고 싶은 지역의 이름(읍면동 단위)을 입력해 주세요 : 신도림\n"
     ]
    }
   ],
   "source": [
    "string=input(\"인구 구조가 알고 싶은 지역의 이름(읍면동 단위)을 입력해 주세요 : \")"
   ]
  },
  {
   "cell_type": "code",
   "execution_count": 53,
   "metadata": {},
   "outputs": [
    {
     "name": "stdout",
     "output_type": "stream",
     "text": [
      "[378, 413, 437, 412, 423, 418, 467, 414, 414, 416, 396, 362, 386, 339, 341, 351, 368, 391, 351, 387, 444, 432, 484, 449, 490, 431, 511, 445, 507, 517, 507, 566, 611, 638, 750, 772, 789, 756, 822, 679, 731, 690, 693, 734, 725, 658, 632, 602, 571, 572, 490, 500, 553, 549, 487, 537, 590, 585, 513, 515, 492, 422, 527, 397, 396, 403, 258, 314, 273, 303, 297, 197, 172, 158, 166, 186, 152, 141, 108, 118, 88, 97, 73, 70, 47, 45, 42, 27, 32, 21, 25, 23, 13, 7, 10, 6, 3, 3, 2, 2, 6]\n"
     ]
    }
   ],
   "source": [
    "result=[]\n",
    "for row in data:\n",
    "    if string in row[0]:\n",
    "        for i in row[3:]:\n",
    "            result.append(int(i))\n",
    "print(result)"
   ]
  },
  {
   "cell_type": "code",
   "execution_count": 62,
   "metadata": {},
   "outputs": [
    {
     "data": {
      "text/plain": [
       "<BarContainer object of 101 artists>"
      ]
     },
     "execution_count": 62,
     "metadata": {},
     "output_type": "execute_result"
    },
    {
     "data": {
      "image/png": "[encoded data removed]",
      "text/plain": [
       "<Figure size 432x288 with 1 Axes>"
      ]
     },
     "metadata": {
      "needs_background": "light"
     },
     "output_type": "display_data"
    },
    {
     "data": {
      "image/png": "[encoded data removed]",
      "text/plain": [
       "<Figure size 432x288 with 1 Axes>"
      ]
     },
     "metadata": {
      "needs_background": "light"
     },
     "output_type": "display_data"
    }
   ],
   "source": [
    "plt.figure(1)\n",
    "plt.bar(range(101),result)\n",
    "plt.figure(2)\n",
    "plt.barh(range(101),result)"
   ]
  }
 ],
 "metadata": {
  "kernelspec": {
   "display_name": "Python 3",
   "language": "python",
   "name": "python3"
  },
  "language_info": {
   "codemirror_mode": {
    "name": "ipython",
    "version": 3
   },
   "file_extension": ".py",
   "mimetype": "text/x-python",
   "name": "python",
   "nbconvert_exporter": "python",
   "pygments_lexer": "ipython3",
   "version": "3.7.6"
  }
 },
 "nbformat": 4,
 "nbformat_minor": 4
}
