{
 "cells": [
  {
   "cell_type": "code",
   "execution_count": 63,
   "metadata": {},
   "outputs": [],
   "source": [
    "import csv\n",
    "import numpy as np\n",
    "import matplotlib.pyplot as plt"
   ]
  },
  {
   "cell_type": "code",
   "execution_count": 64,
   "metadata": {},
   "outputs": [],
   "source": [
    "import csv\n",
    "f=open('seoul.csv','r',encoding='cp949')\n",
    "data=csv.reader(f,delimiter=',')"
   ]
  },
  {
   "cell_type": "code",
   "execution_count": 65,
   "metadata": {},
   "outputs": [],
   "source": [
    "header=next(data)"
   ]
  },
  {
   "cell_type": "code",
   "execution_count": 66,
   "metadata": {},
   "outputs": [],
   "source": [
    "date=\"\";\n",
    "temper=0;\n",
    "tem8=[]\n",
    "tem1=[]\n",
    "for row in data:\n",
    "    temp=row[0][5:7]\n",
    "    year=int(row[0][:4])\n",
    "    if(row[-2]==\"\" or row[-1]==\"\" or year<1907 or year>2018):\n",
    "        continue\n",
    "    if(temp==\"01\"):\n",
    "        tem1.append(float(row[-1]))\n",
    "    elif(temp==\"08\"):\n",
    "        tem8.append(float(row[-1]))"
   ]
  },
  {
   "cell_type": "code",
   "execution_count": 67,
   "metadata": {},
   "outputs": [
    {
     "data": {
      "image/png": "[encoded data removed]",
      "text/plain": [
       "<Figure size 432x288 with 1 Axes>"
      ]
     },
     "metadata": {
      "needs_background": "light"
     },
     "output_type": "display_data"
    }
   ],
   "source": [
    "plt.rc('font', family='AppleGothic') \n",
    "plt.rcParams['axes.unicode_minus']=False\n",
    "plt.title('1월과 8월의 최고기온')\n",
    "plt.hist(tem8,bins=100,color='r',label=\"8월\")\n",
    "plt.hist(tem1,bins=100,color='b',label=\"1월\")\n",
    "plt.legend()\n",
    "plt.show()"
   ]
  },
  {
   "cell_type": "code",
   "execution_count": 68,
   "metadata": {},
   "outputs": [],
   "source": [
    "f.close()"
   ]
  }
 ],
 "metadata": {
  "kernelspec": {
   "display_name": "Python 3",
   "language": "python",
   "name": "python3"
  },
  "language_info": {
   "codemirror_mode": {
    "name": "ipython",
    "version": 3
   },
   "file_extension": ".py",
   "mimetype": "text/x-python",
   "name": "python",
   "nbconvert_exporter": "python",
   "pygments_lexer": "ipython3",
   "version": "3.7.6"
  }
 },
 "nbformat": 4,
 "nbformat_minor": 4
}
